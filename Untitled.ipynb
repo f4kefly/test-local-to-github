{
 "cells": [
  {
   "cell_type": "code",
   "execution_count": null,
   "id": "48c3f3c2",
   "metadata": {
    "cellId": "uito4pasto5j86xz2tgwn",
    "execution": {
     "iopub.execute_input": "2023-10-16T14:04:56.267081Z",
     "iopub.status.busy": "2023-10-16T14:04:56.266415Z",
     "iopub.status.idle": "2023-10-16T14:04:56.335361Z",
     "shell.execute_reply": "2023-10-16T14:04:56.334973Z",
     "shell.execute_reply.started": "2023-10-16T14:04:56.267039Z"
    },
    "tags": []
   },
   "outputs": [],
   "source": [
    "print('1234')"
   ]
  },
  {
   "cell_type": "code",
   "execution_count": null,
   "id": "41574d3f",
   "metadata": {
    "cellId": "ivxkdbwovls14qohfz49w7"
   },
   "outputs": [],
   "source": [
    "print('good day sir')"
   ]
  },
  {
   "cell_type": "code",
   "execution_count": null,
   "id": "91e48264",
   "metadata": {
    "cellId": "4tum02tjtuhy1t8u1tgt7"
   },
   "outputs": [],
   "source": [
    "print('hello world')"
   ]
  }
 ],
 "metadata": {
  "language_info": {
   "codemirror_mode": {
    "name": "ipython",
    "version": 3
   },
   "file_extension": ".py",
   "mimetype": "text/x-python",
   "name": "python",
   "nbconvert_exporter": "python",
   "pygments_lexer": "ipython3",
   "version": "3.7.7"
  },
  "notebookId": "a56f08d6-a2a1-4231-bac4-fc3d92ef014b",
  "notebookPath": "Untitled.ipynb"
 },
 "nbformat": 4,
 "nbformat_minor": 5
}
